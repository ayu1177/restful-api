{
  "nbformat": 4,
  "nbformat_minor": 0,
  "metadata": {
    "colab": {
      "provenance": []
    },
    "kernelspec": {
      "name": "python3",
      "display_name": "Python 3"
    },
    "language_info": {
      "name": "python"
    }
  },
  "cells": [
    {
      "cell_type": "markdown",
      "source": [
        "theory"
      ],
      "metadata": {
        "id": "DX2st2uFaynS"
      }
    },
    {
      "cell_type": "markdown",
      "source": [
        "1.What is a RESTful API?\n",
        "\n",
        "A RESTful API (Representational State Transfer Application Programming Interface) is an API that adheres to the architectural principles of REST. REST is a set of guidelines for designing networked applications, particularly web services, to be simple, scalable, and efficien"
      ],
      "metadata": {
        "id": "7jt4o9vPa1rq"
      }
    },
    {
      "cell_type": "markdown",
      "source": [
        "2.Explain the concept of API specification.\n",
        "\n",
        "An API specification is a formal, machine-readable document that describes the design, functionality, and expected behavior of an Application Programming Interface (API). It serves as a blueprint or contract between the API provider and consumers, outlining how to interact with the API.\n",
        "\n",
        "Key aspects of an API specification include:\n",
        "\n",
        "Endpoints and Paths:\n",
        "\n",
        "Defines the URLs (endpoints) and specific paths within those URLs that can be accessed, along with the HTTP methods (GET, POST, PUT, DELETE, etc.) supported for each path.\n",
        "\n",
        "Request and Response Structures:\n",
        "\n",
        "Details the format and data types of the information that needs to be sent to the API (request body and parameters) and the information that will be received in return (response body and status codes)."
      ],
      "metadata": {
        "id": "cH7Vl5GlbBXX"
      }
    },
    {
      "cell_type": "markdown",
      "source": [
        "3.What is Flask, and why is it popular for building APIs?\n",
        "\n",
        "Flask is a micro web framework for Python, used for building web applications and APIs. It is considered \"micro\" because it provides only the essential tools and functionalities, allowing developers to choose and integrate additional components as needed.\n",
        "\n",
        "Why Flask is popular for building APIs:\n",
        "\n",
        "Lightweight and Minimalist:\n",
        "\n",
        "Flask's small core footprint makes it quick to set up and easy to understand, reducing overhead and speeding up development, especially for smaller APIs or microservices.\n",
        "\n",
        "Flexibility and Extensibility:\n",
        "\n",
        "Its minimalist design gives developers the freedom to select and integrate specific libraries and extensions for tasks like database interaction (e.g., SQLAlchemy), serialization (e.g., Marshmallow), and authentication, rather than being tied to a rigid set of built-in tools."
      ],
      "metadata": {
        "id": "JlchuwnDbLTW"
      }
    },
    {
      "cell_type": "markdown",
      "source": [
        "4.What is routing in Flask?\n",
        "\n",
        "Routing in Flask is the mechanism that maps URLs (Uniform Resource Locators) to specific Python functions within your application. When a user requests a particular URL in their web browser, Flask's routing system determines which function should be executed to handle that request and generate a response"
      ],
      "metadata": {
        "id": "c-eM3Lx4a8-v"
      }
    },
    {
      "cell_type": "markdown",
      "source": [
        "5.How do you create a simple Flask application?\n",
        "\n",
        "Creating a simple Flask application involves a few key steps:\n",
        "Set up your environment:\n",
        "Create a new directory for your project.\n",
        "Navigate into that directory in your terminal.\n",
        "Create and activate a virtual environment to manage dependencies"
      ],
      "metadata": {
        "id": "vu_z7Ulabgly"
      }
    },
    {
      "cell_type": "markdown",
      "source": [
        "6.What are HTTP methods used in RESTful APIs?\n",
        "\n",
        "HTTP methods, also known as HTTP verbs, define the type of action a client wants to perform on a resource when interacting with a REST API. These methods are a fundamental part of the HTTP protocol and are used to map to standard data operations, commonly referred to as CRUD (Create, Read, Update, Delete).\n",
        "\n",
        "The most commonly used HTTP methods in REST APIs include:\n",
        "\n",
        "GET:\n",
        "\n",
        "Used to retrieve data from the server. GET requests should be idempotent and safe, meaning they do not change the state of the resource on the server.\n",
        "\n",
        "POST:\n",
        "\n",
        "Used to send data to the server to create a new resource. POST requests are not idempotent as multiple identical requests can result in multiple new resources.\n",
        "\n",
        "PUT:\n",
        "\n",
        "Used to update or replace an existing resource with the provided data. If the resource does not exist, PUT can also be used to create it. PUT requests are idempotent, meaning making the same request multiple times will have the same effect as making it once.\n"
      ],
      "metadata": {
        "id": "Z9gSuEy0bqgH"
      }
    },
    {
      "cell_type": "markdown",
      "source": [
        "7.What is the purpose of the @app.route() decorator in Flask?\n",
        "\n",
        "The app.route() decorator in Flask serves the purpose of defining URL routes and associating them with specific Python functions within a Flask web application.\n",
        "\n",
        "Here's a breakdown of its purpose:\n",
        "\n",
        "URL Mapping:\n",
        "\n",
        "It maps a particular URL path to a Python function that will be executed when a user requests that URL. This function is often referred to as a \"view function.\"\n",
        "\n",
        "Request Handling:\n",
        "\n",
        "When a request comes in for a URL defined by @app.route(), Flask automatically calls the decorated function. This function then contains the logic to process the request and generate an appropriate response (e.g., rendering an HTML template, returning JSON data)."
      ],
      "metadata": {
        "id": "93nAIepeb2_1"
      }
    },
    {
      "cell_type": "markdown",
      "source": [
        "8.What is the difference between GET and POST HTTP methods?\n",
        "\n",
        "The fundamental difference between GET and POST HTTP methods lies in their intended purpose and how they handle data transmission:\n",
        "\n",
        "GET Method:\n",
        "\n",
        "Purpose:\n",
        "\n",
        "Primarily used for retrieving data from the server. It requests a representation of the specified resource.\n",
        "\n",
        "Data Transmission:\n",
        "\n",
        "Data is appended to the URL as query parameters (e.g., example.com/search?query=keyword).\n",
        "\n",
        "Visibility:\n",
        "Data is visible in the URL, browser history, and server logs."
      ],
      "metadata": {
        "id": "e5cenEsycET9"
      }
    },
    {
      "cell_type": "markdown",
      "source": [
        "9.How do you handle errors in Flask APIs?\n",
        "\n",
        "Error handling in a Flask API involves defining how the application responds to various error conditions, providing informative feedback to the client while maintaining a structured and consistent response format."
      ],
      "metadata": {
        "id": "n7MrrqT4cS3T"
      }
    },
    {
      "cell_type": "markdown",
      "source": [
        "10.How do you connect Flask to a SQL database?\n",
        "\n",
        "Connecting Flask to a SQL database typically involves using an Object-Relational Mapper (ORM) like Flask-SQLAlchemy, which simplifies database interactions. Here's a general outline of the process: Install necessary package."
      ],
      "metadata": {
        "id": "TKrYzS4Fcgxo"
      }
    },
    {
      "cell_type": "markdown",
      "source": [
        "11.What is the role of Flask-SQLAlchemy?\n",
        "\n",
        "Flask-SQLAlchemy is a Flask extension that makes using SQLAlchemy with Flask easier, providing you tools and methods to interact with your database in your Flask applications through SQLAlchemy. In this tutorial, you'll build a small student management system that demonstrates how to use the Flask-SQLAlchemy extension"
      ],
      "metadata": {
        "id": "-Elov_kLcpbc"
      }
    },
    {
      "cell_type": "markdown",
      "source": [
        "12.What are Flask blueprints, and how are they useful?\n",
        "\n",
        "Flask Blueprints are a mechanism in the Flask web framework for organizing and structuring applications into modular, reusable components. Instead of defining all routes, templates, and static files directly within a single Flask application instance, blueprints allow you to encapsulate related functionalities into independent units.\n",
        "\n",
        "How they are useful:\n",
        "\n",
        "Modularity and Organization:\n",
        "\n",
        "Blueprints promote a modular structure by breaking down a large application into smaller, manageable parts based on functionality (e.g., an \"admin\" blueprint, a \"user\" blueprint, a \"blog\" blueprint). This makes the codebase easier to understand, navigate, and maintain.\n",
        "\n",
        "Reusability:\n",
        "\n",
        "Blueprints can be registered with different Flask application instances, making them highly reusable. For example, a \"user authentication\" blueprint could be developed once and then integrated into multiple projects."
      ],
      "metadata": {
        "id": "XWbBRusxc2my"
      }
    },
    {
      "cell_type": "markdown",
      "source": [
        "13.What is the purpose of Flask's request object?\n",
        "\n",
        "The purpose of Flask's request object is to provide access to all incoming HTTP request data sent by the client to the server. It acts as a container for information about the current request, making it easily accessible within your Flask application's view functions."
      ],
      "metadata": {
        "id": "fGSKHtGRc_9K"
      }
    },
    {
      "cell_type": "markdown",
      "source": [
        "14.How do you create a RESTful API endpoint using Flask?\n",
        "\n",
        "Creating a RESTful API endpoint using Flask involves defining routes that correspond to specific HTTP methods (GET, POST, PUT, DELETE) and handling requests and responses in JSON format."
      ],
      "metadata": {
        "id": "9kiY7UaadG6o"
      }
    },
    {
      "cell_type": "markdown",
      "source": [
        "15.What is the purpose of Flask's jsonify() function?\n",
        "\n",
        "The jsonify() function in Flask serves the purpose of simplifying the process of returning JSON-formatted responses from a Flask application, especially when building APIs."
      ],
      "metadata": {
        "id": "WNFruUeBdO1m"
      }
    },
    {
      "cell_type": "markdown",
      "source": [
        "16.Explain Flask’s url_for() function.\n",
        "\n",
        "Flask's url_for() function dynamically generates URLs for specific view functions within a Flask application. This function is crucial for creating robust and maintainable web applications, as it avoids hard-coding URLs and provides flexibility in URL structure."
      ],
      "metadata": {
        "id": "KuOshR3sdZzl"
      }
    },
    {
      "cell_type": "markdown",
      "source": [
        "17.How does Flask handle static files (CSS, JavaScript, etc.)?\n",
        "\n",
        "Flask provides a straightforward mechanism for handling static files such as CSS stylesheets, JavaScript files, images, and other client-side assets.\n",
        "\n",
        "Default Static Folder:\n",
        "\n",
        "By default, Flask expects static files to reside in a directory named static located in the root of your Flask application.\n",
        "\n",
        "For example, if you have a CSS file named style.css, you would place it in your_app/static/css/style.css."
      ],
      "metadata": {
        "id": "gyk8K_bKdidC"
      }
    },
    {
      "cell_type": "markdown",
      "source": [
        "18.What is an API specification, and how does it help in building a Flask API?\n",
        "\n",
        "An API specification is a formal, machine-readable document that describes the structure and behavior of an API. It acts as a blueprint, detailing endpoints, data models, parameters, security schemes, and expected responses. The OpenAPI Specification (OAS), formerly known as Swagger, is a widely used standard for defining RESTful APIs."
      ],
      "metadata": {
        "id": "tItPakjQdwhA"
      }
    },
    {
      "cell_type": "markdown",
      "source": [
        "19.What are HTTP status codes, and why are they important in a Flask API?\n",
        "\n",
        "HTTP status codes are three-digit numbers returned by a web server in response to an HTTP request from a client (like a web browser or an API application). They communicate the outcome of the request, indicating whether it was successful, requires further action, or encountered an error."
      ],
      "metadata": {
        "id": "9fZOZoMed4eP"
      }
    },
    {
      "cell_type": "markdown",
      "source": [
        "20.How do you handle POST requests in Flask?\n",
        "\n",
        "Handling POST requests in Flask involves defining a route that accepts the POST method and then accessing the submitted data using the request object."
      ],
      "metadata": {
        "id": "XfcAaNNreE89"
      }
    },
    {
      "cell_type": "markdown",
      "source": [
        "21.How would you secure a Flask API?\n",
        "\n",
        "Securing a Flask API involves implementing a multi-layered approach to protect against various threats."
      ],
      "metadata": {
        "id": "9Jh-GJAMeOQ6"
      }
    },
    {
      "cell_type": "markdown",
      "source": [
        "22.What is the significance of the Flask-RESTful extension?\n",
        "\n",
        "Flask-RESTful is a Flask extension that significantly simplifies the development of REST APIs. It provides a structured and efficient way to build APIs by offering built-in features for request handling, resource management, and response formatting, all while adhering to RESTful principles. Essentially, it streamlines the process of creating APIs with Flask, making it easier to manage resources, handle requests, and format responses in a standard way."
      ],
      "metadata": {
        "id": "lDLG-eTieWQh"
      }
    },
    {
      "cell_type": "markdown",
      "source": [
        "23.What is the role of Flask’s session object?\n",
        "\n",
        "In Flask, the session object provides a way to store user-specific data on the server-side, persisting it across multiple requests within a user's session. This is crucial for maintaining state and managing information like user authentication, preferences, or shopping cart contents. Flask uses a secret key to securely sign the session data, ensuring its integrity."
      ],
      "metadata": {
        "id": "vws07S0jecc3"
      }
    },
    {
      "cell_type": "markdown",
      "source": [
        "practical"
      ],
      "metadata": {
        "id": "3I0H0MXVej7n"
      }
    },
    {
      "cell_type": "markdown",
      "source": [
        "1.How do you create a basic Flask application?\n"
      ],
      "metadata": {
        "id": "D3-lDrPheleY"
      }
    },
    {
      "cell_type": "code",
      "metadata": {
        "colab": {
          "base_uri": "https://localhost:8080/"
        },
        "id": "2a6705fc",
        "outputId": "23f6d46d-0469-436c-ac34-ae4026c1b082"
      },
      "source": [
        "# On macOS/Linux\n",
        "!python -m venv venv\n",
        "!source venv/bin/activate"
      ],
      "execution_count": 3,
      "outputs": [
        {
          "output_type": "stream",
          "name": "stdout",
          "text": [
            "Error: Command '['/content/venv/bin/python3', '-m', 'ensurepip', '--upgrade', '--default-pip']' returned non-zero exit status 1.\n",
            "/bin/bash: line 1: venv/bin/activate: No such file or directory\n"
          ]
        }
      ]
    },
    {
      "cell_type": "markdown",
      "source": [
        "2.How do you serve static files like images or CSS in Flask?\n"
      ],
      "metadata": {
        "id": "KlPL56vWe5VU"
      }
    },
    {
      "cell_type": "code",
      "source": [
        "from flask import Flask\n",
        "from flask.send_file import send_static_file\n",
        "\n",
        "app = Flask(__name__)\n",
        "\n",
        "@app.route('/api/data')\n",
        "def get_data():\n",
        "    return send_static_file('data.json')"
      ],
      "metadata": {
        "colab": {
          "base_uri": "https://localhost:8080/",
          "height": 412
        },
        "id": "AaZukDPbfMGR",
        "outputId": "f414f4e4-731f-46c8-8cb6-535eaebc353b"
      },
      "execution_count": 10,
      "outputs": [
        {
          "output_type": "error",
          "ename": "ModuleNotFoundError",
          "evalue": "No module named 'flask.send_file'",
          "traceback": [
            "\u001b[0;31m---------------------------------------------------------------------------\u001b[0m",
            "\u001b[0;31mModuleNotFoundError\u001b[0m                       Traceback (most recent call last)",
            "\u001b[0;32m/tmp/ipython-input-185903688.py\u001b[0m in \u001b[0;36m<cell line: 0>\u001b[0;34m()\u001b[0m\n\u001b[1;32m      1\u001b[0m \u001b[0;32mfrom\u001b[0m \u001b[0mflask\u001b[0m \u001b[0;32mimport\u001b[0m \u001b[0mFlask\u001b[0m\u001b[0;34m\u001b[0m\u001b[0;34m\u001b[0m\u001b[0m\n\u001b[0;32m----> 2\u001b[0;31m \u001b[0;32mfrom\u001b[0m \u001b[0mflask\u001b[0m\u001b[0;34m.\u001b[0m\u001b[0msend_file\u001b[0m \u001b[0;32mimport\u001b[0m \u001b[0msend_static_file\u001b[0m\u001b[0;34m\u001b[0m\u001b[0;34m\u001b[0m\u001b[0m\n\u001b[0m\u001b[1;32m      3\u001b[0m \u001b[0;34m\u001b[0m\u001b[0m\n\u001b[1;32m      4\u001b[0m \u001b[0mapp\u001b[0m \u001b[0;34m=\u001b[0m \u001b[0mFlask\u001b[0m\u001b[0;34m(\u001b[0m\u001b[0m__name__\u001b[0m\u001b[0;34m)\u001b[0m\u001b[0;34m\u001b[0m\u001b[0;34m\u001b[0m\u001b[0m\n\u001b[1;32m      5\u001b[0m \u001b[0;34m\u001b[0m\u001b[0m\n",
            "\u001b[0;31mModuleNotFoundError\u001b[0m: No module named 'flask.send_file'",
            "",
            "\u001b[0;31m---------------------------------------------------------------------------\u001b[0;32m\nNOTE: If your import is failing due to a missing package, you can\nmanually install dependencies using either !pip or !apt.\n\nTo view examples of installing some common dependencies, click the\n\"Open Examples\" button below.\n\u001b[0;31m---------------------------------------------------------------------------\u001b[0m\n"
          ],
          "errorDetails": {
            "actions": [
              {
                "action": "open_url",
                "actionText": "Open Examples",
                "url": "/notebooks/snippets/importing_libraries.ipynb"
              }
            ]
          }
        }
      ]
    },
    {
      "cell_type": "markdown",
      "source": [
        "3.How do you define different routes with different HTTP methods in Flask?\n"
      ],
      "metadata": {
        "id": "PzhP3nyFfdYY"
      }
    },
    {
      "cell_type": "code",
      "source": [
        "from flask import Flask, request\n",
        "\n",
        "app = Flask(__name__)\n",
        "\n",
        "@app.route('/data', methods=['GET', 'POST'])\n",
        "def handle_data():\n",
        "    if request.method == 'GET':\n",
        "        return 'This is a GET request to /data'\n",
        "    elif request.method == 'POST':\n",
        "        return 'This is a POST request to /data'"
      ],
      "metadata": {
        "id": "3YC8N2hQfexI"
      },
      "execution_count": 12,
      "outputs": []
    },
    {
      "cell_type": "markdown",
      "source": [
        "4.How do you render HTML templates in Flask?\n",
        "\n"
      ],
      "metadata": {
        "id": "c8mMsHcrfig2"
      }
    },
    {
      "cell_type": "code",
      "source": [
        "    app = Flask(__name__)\n",
        "\n",
        "    @app.route('/')\n",
        "    def home():\n",
        "        return render_template('index.html')\n",
        "\n",
        "    @app.route('/about')\n",
        "    def about():\n",
        "        return render_template('about.html')"
      ],
      "metadata": {
        "id": "km9JblYEfqxu"
      },
      "execution_count": 13,
      "outputs": []
    },
    {
      "cell_type": "markdown",
      "source": [
        "5.How can you generate URLs for routes in Flask using url_for?\n"
      ],
      "metadata": {
        "id": "781y9QqVfr5H"
      }
    },
    {
      "cell_type": "code",
      "source": [
        "from flask import Flask, url_for\n",
        "\n",
        "app = Flask(__name__)\n",
        "\n",
        "@app.route('/')\n",
        "def index():\n",
        "    return 'Hello, World!'\n",
        "\n",
        "@app.route('/about')\n",
        "def about():\n",
        "    return 'About Page'\n",
        "\n",
        "with app.test_request_context():\n",
        "    print(url_for('index'))  # Output: /\n",
        "    print(url_for('about'))  # Output: /about"
      ],
      "metadata": {
        "colab": {
          "base_uri": "https://localhost:8080/"
        },
        "id": "7Yf7lPyBfuwu",
        "outputId": "ecb7392d-ec48-43d4-9599-1b5450514ae3"
      },
      "execution_count": 14,
      "outputs": [
        {
          "output_type": "stream",
          "name": "stdout",
          "text": [
            "/\n",
            "/about\n"
          ]
        }
      ]
    },
    {
      "cell_type": "markdown",
      "source": [
        "6.How do you handle forms in Flask?\n",
        "\n"
      ],
      "metadata": {
        "id": "DheeEZQLfzSc"
      }
    },
    {
      "cell_type": "code",
      "source": [
        "from flask import Flask, render_template, request, redirect, url_for\n",
        "\n",
        "app = Flask(__name__)\n",
        "\n",
        "@app.route('/login', methods=['GET', 'POST'])\n",
        "def login():\n",
        "    if request.method == 'POST':\n",
        "        username = request.form.get('username')\n",
        "        password = request.form.get('password')\n",
        "\n",
        "        if username == 'user' and password == 'pass':\n",
        "            return redirect(url_for('success'))\n",
        "        else:\n",
        "            return render_template('login.html', error=\"Invalid credentials\")\n",
        "    return render_template('login.html')\n",
        "\n",
        "@app.route('/success')\n",
        "def success():\n",
        "    return \"Login successful!\"\n",
        "\n",
        "if __name__ == '__main__':\n",
        "    app.run(debug=True)"
      ],
      "metadata": {
        "colab": {
          "base_uri": "https://localhost:8080/"
        },
        "id": "C2u5R63Vf_sK",
        "outputId": "a7c07e46-e1cd-48bd-e175-54d7460ae231"
      },
      "execution_count": null,
      "outputs": [
        {
          "output_type": "stream",
          "name": "stdout",
          "text": [
            " * Serving Flask app '__main__'\n",
            " * Debug mode: on\n"
          ]
        },
        {
          "output_type": "stream",
          "name": "stderr",
          "text": [
            "INFO:werkzeug:\u001b[31m\u001b[1mWARNING: This is a development server. Do not use it in a production deployment. Use a production WSGI server instead.\u001b[0m\n",
            " * Running on http://127.0.0.1:5000\n",
            "INFO:werkzeug:\u001b[33mPress CTRL+C to quit\u001b[0m\n",
            "INFO:werkzeug: * Restarting with stat\n"
          ]
        }
      ]
    },
    {
      "cell_type": "markdown",
      "source": [
        "7.How can you validate form data in Flask?\n",
        "\n"
      ],
      "metadata": {
        "id": "PimMidc9gCX6"
      }
    },
    {
      "cell_type": "code",
      "source": [
        "    from flask import Flask\n",
        "    from flask_wtf.csrf import CSRFProtect\n",
        "\n",
        "    app = Flask(__name__)\n",
        "    app.config['SECRET_KEY'] = 'a_very_secret_key_for_csrf_protection'\n",
        "    csrf = CSRFProtect(app)"
      ],
      "metadata": {
        "id": "uOgJ9FdogLQM"
      },
      "execution_count": null,
      "outputs": []
    },
    {
      "cell_type": "markdown",
      "source": [
        "8.How do you manage sessions in Flask?\n",
        "\n"
      ],
      "metadata": {
        "id": "GoZ-wl_WgO4Q"
      }
    },
    {
      "cell_type": "code",
      "source": [
        "from flask import Flask, session, redirect, url_for, request\n",
        "\n",
        "app = Flask(__name__)\n",
        "app.secret_key = 'your_secret_key_here' # Replace with a strong, unique key\n",
        "\n",
        "@app.route('/')\n",
        "def index():\n",
        "    if 'username' in session:\n",
        "        return f'Logged in as {session[\"username\"]}'\n",
        "    return 'You are not logged in'\n",
        "\n",
        "@app.route('/login', methods=['GET', 'POST'])\n",
        "def login():\n",
        "    if request.method == 'POST':\n",
        "        session['username'] = request.form['username']\n",
        "        return redirect(url_for('index'))\n",
        "    return '''\n",
        "        <form method=\"post\">\n",
        "            <p><input type=text name=username>\n",
        "            <p><input type=submit value=Login>\n",
        "        </form>\n",
        "    '''\n",
        "\n",
        "@app.route('/logout')\n",
        "def logout():\n",
        "    session.pop('username', None)\n",
        "    return redirect(url_for('index'))\n",
        "\n",
        "if __name__ == '__main__':\n",
        "    app.run(debug=True)"
      ],
      "metadata": {
        "id": "UbbszyVfgTIi"
      },
      "execution_count": null,
      "outputs": []
    },
    {
      "cell_type": "markdown",
      "source": [
        "9.How do you redirect to a different route in Flask?\n",
        "\n"
      ],
      "metadata": {
        "id": "Cmi0TJTOgbpA"
      }
    },
    {
      "cell_type": "code",
      "source": [
        "    app = Flask(__name__)\n",
        "\n",
        "    @app.route('/')\n",
        "    def index():\n",
        "        # This route will redirect to the 'login' route\n",
        "        return redirect(url_for('login'))\n",
        "\n",
        "    @app.route('/login')\n",
        "    def login():\n",
        "        return \"This is the login page.\"\n",
        "\n",
        "    @app.route('/dashboard')\n",
        "    def dashboard():\n",
        "        return \"Welcome to your dashboard!\""
      ],
      "metadata": {
        "id": "KLnscJePgfpm"
      },
      "execution_count": null,
      "outputs": []
    },
    {
      "cell_type": "markdown",
      "source": [
        "10.How do you handle errors in Flask (e.g., 404)?\n"
      ],
      "metadata": {
        "id": "3_adhKWggmDQ"
      }
    },
    {
      "cell_type": "code",
      "source": [
        "from flask import Flask, render_template, abort\n",
        "\n",
        "app = Flask(__name__)\n",
        "\n",
        "# Custom 404 error handler\n",
        "@app.errorhandler(404)\n",
        "def page_not_found(e):\n",
        "    return render_template('404.html'), 404\n",
        "\n",
        "# Custom 500 error handler\n",
        "@app.errorhandler(500)\n",
        "def internal_server_error(e):\n",
        "    return render_template('500.html'), 500\n",
        "\n",
        "@app.route('/')\n",
        "def index():\n",
        "    return \"Welcome to the homepage!\"\n",
        "\n",
        "@app.route('/user/<int:user_id>')\n",
        "def get_user(user_id):\n",
        "    if user_id != 1:\n",
        "        abort(404)  # Manually trigger a 404 error\n",
        "    return f\"User ID: {user_id}\"\n",
        "\n",
        "if __name__ == '__main__':\n",
        "    app.run(debug=True)"
      ],
      "metadata": {
        "id": "mY0HPV1YgrLW"
      },
      "execution_count": null,
      "outputs": []
    },
    {
      "cell_type": "markdown",
      "source": [
        "11.How do you structure a Flask app using Blueprints?\n",
        "\n"
      ],
      "metadata": {
        "id": "gm2PPe6ggwTO"
      }
    },
    {
      "cell_type": "code",
      "source": [
        "    # my_blueprint/routes.py\n",
        "    from flask import Blueprint, render_template\n",
        "\n",
        "    my_blueprint_bp = Blueprint('my_blueprint', __name__, template_folder='templates', static_folder='static')\n",
        "\n",
        "    @my_blueprint_bp.route('/')\n",
        "    def index():\n",
        "        return render_template('my_blueprint/index.html')"
      ],
      "metadata": {
        "id": "y8NqyzWMg0dv"
      },
      "execution_count": null,
      "outputs": []
    },
    {
      "cell_type": "markdown",
      "source": [
        "12.How do you define a custom Jinja filter in Flask?\n",
        "\n"
      ],
      "metadata": {
        "id": "VQ2TVA6vg4zc"
      }
    },
    {
      "cell_type": "code",
      "source": [
        "def reverse_string_filter(s):\n",
        "    return s[::-1]\n",
        "\n",
        "def add_prefix_filter(s, prefix=\"Hello, \"):\n",
        "    return prefix + s"
      ],
      "metadata": {
        "id": "SboRroptg9mb"
      },
      "execution_count": null,
      "outputs": []
    },
    {
      "cell_type": "markdown",
      "source": [
        "13.How can you redirect with query parameters in Flask?\n",
        "\n"
      ],
      "metadata": {
        "id": "bENh4GV3hBpr"
      }
    },
    {
      "cell_type": "code",
      "source": [
        "    app = Flask(__name__)\n",
        "\n",
        "    @app.route('/')\n",
        "    def index():\n",
        "        return 'Welcome to the index page!'\n",
        "\n",
        "    @app.route('/target_page')\n",
        "    def target_page():\n",
        "        param1 = request.args.get('param1')\n",
        "        param2 = request.args.get('param2')\n",
        "        return f'Reached target page. Param1: {param1}, Param2: {param2}'\n",
        "\n",
        "    @app.route('/redirect_with_params')\n",
        "    def do_redirect():\n",
        "        # Redirect to 'target_page' with query parameters\n",
        "        return redirect(url_for('target_page', param1='value1', param2='value2'))\n",
        "\n",
        "    if __name__ == '__main__':\n",
        "        app.run(debug=True)"
      ],
      "metadata": {
        "id": "OI4fv07NhIVW"
      },
      "execution_count": null,
      "outputs": []
    },
    {
      "cell_type": "markdown",
      "source": [
        "14.How do you return JSON responses in Flask?\n"
      ],
      "metadata": {
        "id": "C05JyaK-hOzJ"
      }
    },
    {
      "cell_type": "code",
      "source": [
        "from flask import Flask, jsonify\n",
        "\n",
        "app = Flask(__name__)\n",
        "\n",
        "@app.route('/api/data')\n",
        "def get_data():\n",
        "    data = {\"name\": \"Alice\", \"age\": 30, \"city\": \"New York\"}\n",
        "    return jsonify(data)\n",
        "\n",
        "if __name__ == '__main__':\n",
        "    app.run(debug=True)"
      ],
      "metadata": {
        "id": "giEvf6eShSkT"
      },
      "execution_count": null,
      "outputs": []
    },
    {
      "cell_type": "markdown",
      "source": [
        "15.How do you capture URL parameters in Flask?\n",
        "\n"
      ],
      "metadata": {
        "id": "OTqCD4kAhXr7"
      }
    },
    {
      "cell_type": "code",
      "source": [
        "        from flask import Flask, request\n",
        "\n",
        "        app = Flask(__name__)\n",
        "\n",
        "        @app.route('/search')\n",
        "        def search():\n",
        "            query = request.args.get('q')  # Get the value of the 'q' parameter\n",
        "            category = request.args.get('category', 'all') # Get 'category' or 'all' if not present\n",
        "            return f\"Searching for '{query}' in category '{category}'\"\n",
        "\n",
        "        if __name__ == '__main__':\n",
        "            app.run(debug=True)"
      ],
      "metadata": {
        "id": "uQZISS8hhblo"
      },
      "execution_count": null,
      "outputs": []
    }
  ]
}